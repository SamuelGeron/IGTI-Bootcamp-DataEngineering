{
 "cells": [
  {
   "cell_type": "markdown",
   "metadata": {},
   "source": [
    "## Transform"
   ]
  },
  {
   "cell_type": "code",
   "execution_count": 1,
   "metadata": {},
   "outputs": [],
   "source": [
    "# Imports\n",
    "import os\n",
    "import json\n",
    "import pandas as pd"
   ]
  },
  {
   "cell_type": "code",
   "execution_count": 2,
   "metadata": {},
   "outputs": [],
   "source": [
    "# Reading extracted csvs\n",
    "with open('collected_tweets_2021-03-15-21-26-25.txt', 'r') as file:\n",
    "    tweets = file.readlines()"
   ]
  },
  {
   "cell_type": "code",
   "execution_count": 3,
   "metadata": {},
   "outputs": [],
   "source": [
    "# Function to export json\n",
    "def dump_my_json(json_structure):\n",
    "    with open('tweet2.json', 'w') as f:\n",
    "        json.dump(\n",
    "            json_structure, \n",
    "            f\n",
    "        )"
   ]
  },
  {
   "cell_type": "code",
   "execution_count": 4,
   "metadata": {},
   "outputs": [],
   "source": [
    "# Fazendo parse dos tweets para um formato json\n",
    "parsed_tweets = [json.loads(json.loads(i)) for i in tweets]"
   ]
  },
  {
   "cell_type": "code",
   "execution_count": 5,
   "metadata": {},
   "outputs": [],
   "source": [
    "# Function to convert json to dataframe\n",
    "def tweet_to_df(tweet):\n",
    "    try:\n",
    "        df_out = pd.DataFrame(tweet).reset_index(drop=True).iloc[:1]\n",
    "        \n",
    "        # Filter out retweets\n",
    "        if df_out['text'][0].startswith('RT @'):\n",
    "            return None\n",
    "        \n",
    "        # Bring up user information to the first level of our dataframe\n",
    "        df_out['user_id'] = tweet['user']['id']\n",
    "        df_out['user_screen_name'] = tweet['user']['screen_name']\n",
    "        df_out['user_protected'] = tweet['user']['protected']\n",
    "        df_out['user_verified'] = tweet['user']['verified']\n",
    "        df_out['user_followers_count'] = tweet['user']['followers_count']\n",
    "        df_out['user_friends_count'] = tweet['user']['friends_count']\n",
    "        \n",
    "        \n",
    "        # Keep only relevant columns\n",
    "        df_out = df_out[['id','text','user_id','user_screen_name','user_protected',\n",
    "                         'user_verified','user_followers_count','user_friends_count']]\n",
    "        \n",
    "    except:\n",
    "        return None\n",
    "    return df_out\n"
   ]
  },
  {
   "cell_type": "code",
   "execution_count": 6,
   "metadata": {},
   "outputs": [],
   "source": [
    "# Goes through fuction that transform data before stacking up\n",
    "fixed_parsed_tweets = [tweet_to_df(tweet) for tweet in parsed_tweets]\n",
    "fixed_parsed_tweets = [i for i in fixed_parsed_tweets if i is not None]"
   ]
  },
  {
   "cell_type": "code",
   "execution_count": 7,
   "metadata": {},
   "outputs": [],
   "source": [
    "# Transform to pandas dataframe\n",
    "df_tweets = pd.concat(fixed_parsed_tweets, ignore_index=True)"
   ]
  },
  {
   "cell_type": "markdown",
   "metadata": {},
   "source": [
    "## Ingest data into local mySQL"
   ]
  },
  {
   "cell_type": "code",
   "execution_count": 8,
   "metadata": {},
   "outputs": [],
   "source": [
    "# Imports\n",
    "import pyodbc\n",
    "from sqlalchemy import create_engine"
   ]
  },
  {
   "cell_type": "code",
   "execution_count": 9,
   "metadata": {},
   "outputs": [],
   "source": [
    "# DB Connection Setup\n",
    "mysql_credentials = {\n",
    "    \"hostname\": 'localhost',\n",
    "    \"dbname\": 'twitter',\n",
    "    \"uname\": 'root',\n",
    "    \"pwd\": 'root'\n",
    "}"
   ]
  },
  {
   "cell_type": "code",
   "execution_count": 10,
   "metadata": {},
   "outputs": [],
   "source": [
    "# Creates engine\n",
    "engine = create_engine(\"mysql+pymysql://{user}:{pw}@{host}/{db}\".format(\n",
    "                        host=mysql_credentials[\"hostname\"],\n",
    "                        db=mysql_credentials[\"dbname\"],\n",
    "                        user=mysql_credentials[\"uname\"],\n",
    "                        pw=mysql_credentials[\"pwd\"]))"
   ]
  },
  {
   "cell_type": "code",
   "execution_count": 11,
   "metadata": {},
   "outputs": [],
   "source": [
    "# Ingest\n",
    "df_tweets.to_sql(\"tweets\", con=engine, index=False, if_exists=\"replace\")"
   ]
  },
  {
   "cell_type": "code",
   "execution_count": null,
   "metadata": {},
   "outputs": [],
   "source": []
  }
 ],
 "metadata": {
  "kernelspec": {
   "display_name": "Python 3",
   "language": "python",
   "name": "python3"
  },
  "language_info": {
   "codemirror_mode": {
    "name": "ipython",
    "version": 3
   },
   "file_extension": ".py",
   "mimetype": "text/x-python",
   "name": "python",
   "nbconvert_exporter": "python",
   "pygments_lexer": "ipython3",
   "version": "3.8.5"
  }
 },
 "nbformat": 4,
 "nbformat_minor": 4
}
