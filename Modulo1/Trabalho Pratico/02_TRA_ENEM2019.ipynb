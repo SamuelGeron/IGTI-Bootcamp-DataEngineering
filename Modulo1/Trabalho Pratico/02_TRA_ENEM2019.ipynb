{
 "cells": [
  {
   "cell_type": "markdown",
   "metadata": {},
   "source": [
    "## Transformando os Dados e armazenando no Banco"
   ]
  },
  {
   "cell_type": "code",
   "execution_count": 5,
   "metadata": {},
   "outputs": [],
   "source": [
    "# Importar as bibliotecas necessarias\n",
    "import pandas as pd\n",
    "import numpy as np\n",
    "import os\n",
    "from sqlalchemy import create_engine\n",
    "from sqlalchemy.types import String, Integer, Date"
   ]
  },
  {
   "cell_type": "code",
   "execution_count": 4,
   "metadata": {},
   "outputs": [],
   "source": [
    "# Variaveis global\n",
    "data_path = './enem2019/DADOS/MICRODADOS_ENEM_2019.csv'"
   ]
  },
  {
   "cell_type": "code",
   "execution_count": 6,
   "metadata": {},
   "outputs": [],
   "source": [
    "# Como o arquivo de csv é muito grande, percorre os chunks pegando somente os dados a serem analisados\n",
    "array_df = []\n",
    "for chunk in pd.read_csv(data_path, encoding='Latin1', sep=';', chunksize = 10000):\n",
    "    temp_df = chunk.loc[chunk['SG_UF_RESIDENCIA'] == 'MG']\n",
    "array_df.append(temp_df)\n",
    "\n",
    "enem = pd.concat(array_df, ignore_index=True)"
   ]
  },
  {
   "cell_type": "markdown",
   "metadata": {},
   "source": [
    "## Armazenando os dados no banco relacional usando sqlalchemy"
   ]
  },
  {
   "cell_type": "code",
   "execution_count": 7,
   "metadata": {},
   "outputs": [],
   "source": [
    "# Prepara a engine\n",
    "engine = create_engine(\"mysql+pymysql://{user}:{pw}@{host}/{db}\".format(\n",
    "                        host='localhost',\n",
    "                        db='inep',\n",
    "                        user='root',\n",
    "                        pw='root'))"
   ]
  },
  {
   "cell_type": "code",
   "execution_count": null,
   "metadata": {},
   "outputs": [],
   "source": [
    "# Realiza o store\n",
    "enem.to_sql(\n",
    "    'enem', \n",
    "    engine, \n",
    "    index=True, \n",
    "    if_exists='replace'\n",
    ")"
   ]
  }
 ],
 "metadata": {
  "kernelspec": {
   "display_name": "Python 3",
   "language": "python",
   "name": "python3"
  },
  "language_info": {
   "codemirror_mode": {
    "name": "ipython",
    "version": 3
   },
   "file_extension": ".py",
   "mimetype": "text/x-python",
   "name": "python",
   "nbconvert_exporter": "python",
   "pygments_lexer": "ipython3",
   "version": "3.8.5"
  }
 },
 "nbformat": 4,
 "nbformat_minor": 4
}
